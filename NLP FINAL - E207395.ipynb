{
 "cells": [
  {
   "cell_type": "markdown",
   "metadata": {},
   "source": [
    "# Final Assignment NLP - Or Ancho"
   ]
  },
  {
   "cell_type": "markdown",
   "metadata": {},
   "source": [
    "Upload Libraries required for the task"
   ]
  },
  {
   "cell_type": "code",
   "execution_count": 2,
   "metadata": {},
   "outputs": [],
   "source": [
    "import numpy as np\n",
    "import pandas as pd\n",
    "import nltk\n",
    "from nltk.corpus import stopwords\n",
    "from nltk.stem.porter import PorterStemmer\n",
    "from sklearn.model_selection import train_test_split\n",
    "from sklearn.feature_extraction.text import TfidfVectorizer\n",
    "from sklearn.metrics import accuracy_score, confusion_matrix, classification_report, plot_roc_curve\n",
    "import matplotlib.pyplot as plt"
   ]
  },
  {
   "cell_type": "markdown",
   "metadata": {},
   "source": [
    "Import the dataset and clean missing values"
   ]
  },
  {
   "cell_type": "code",
   "execution_count": 4,
   "metadata": {},
   "outputs": [
    {
     "data": {
      "text/html": [
       "<div>\n",
       "<style scoped>\n",
       "    .dataframe tbody tr th:only-of-type {\n",
       "        vertical-align: middle;\n",
       "    }\n",
       "\n",
       "    .dataframe tbody tr th {\n",
       "        vertical-align: top;\n",
       "    }\n",
       "\n",
       "    .dataframe thead th {\n",
       "        text-align: right;\n",
       "    }\n",
       "</style>\n",
       "<table border=\"1\" class=\"dataframe\">\n",
       "  <thead>\n",
       "    <tr style=\"text-align: right;\">\n",
       "      <th></th>\n",
       "      <th>ID</th>\n",
       "      <th>keywords</th>\n",
       "      <th>age</th>\n",
       "      <th>sex</th>\n",
       "    </tr>\n",
       "  </thead>\n",
       "  <tbody>\n",
       "    <tr>\n",
       "      <th>1</th>\n",
       "      <td>361410</td>\n",
       "      <td>forum:3;contrat:1;calcul:3;conges:1;mission:4;...</td>\n",
       "      <td>47</td>\n",
       "      <td>M</td>\n",
       "    </tr>\n",
       "    <tr>\n",
       "      <th>2</th>\n",
       "      <td>211450</td>\n",
       "      <td>villa:1;location:2;aquitaine:2;maison:1;vacanc...</td>\n",
       "      <td>61</td>\n",
       "      <td>F</td>\n",
       "    </tr>\n",
       "    <tr>\n",
       "      <th>3</th>\n",
       "      <td>1368807</td>\n",
       "      <td>trafic:1;tournante:1;drogue:1;france:1;plaque:...</td>\n",
       "      <td>45</td>\n",
       "      <td>M</td>\n",
       "    </tr>\n",
       "    <tr>\n",
       "      <th>4</th>\n",
       "      <td>3502570</td>\n",
       "      <td>trafic:1;septembre:1;greve:1;sncf:1;sortir:1;p...</td>\n",
       "      <td>22</td>\n",
       "      <td>M</td>\n",
       "    </tr>\n",
       "    <tr>\n",
       "      <th>5</th>\n",
       "      <td>2027488</td>\n",
       "      <td>darmanin:1;pour:1;ferme:1;jcms:1;conjoncture:1...</td>\n",
       "      <td>55</td>\n",
       "      <td>M</td>\n",
       "    </tr>\n",
       "    <tr>\n",
       "      <th>...</th>\n",
       "      <td>...</td>\n",
       "      <td>...</td>\n",
       "      <td>...</td>\n",
       "      <td>...</td>\n",
       "    </tr>\n",
       "    <tr>\n",
       "      <th>999993</th>\n",
       "      <td>878235</td>\n",
       "      <td>prenoms:1;prenom:1;aidan:1</td>\n",
       "      <td>33</td>\n",
       "      <td>F</td>\n",
       "    </tr>\n",
       "    <tr>\n",
       "      <th>999994</th>\n",
       "      <td>730507</td>\n",
       "      <td>programme:1;hemorroides:1;moix:1;symptomes:1;c...</td>\n",
       "      <td>43</td>\n",
       "      <td>M</td>\n",
       "    </tr>\n",
       "    <tr>\n",
       "      <th>999996</th>\n",
       "      <td>1351077</td>\n",
       "      <td>comment:1;faq:1;choisir:1;velo:1;avec:1;joueur...</td>\n",
       "      <td>53</td>\n",
       "      <td>M</td>\n",
       "    </tr>\n",
       "    <tr>\n",
       "      <th>999997</th>\n",
       "      <td>40194</td>\n",
       "      <td>salon:1;clash:1;maman:5;gout:1;doues:1;addicti...</td>\n",
       "      <td>54</td>\n",
       "      <td>F</td>\n",
       "    </tr>\n",
       "    <tr>\n",
       "      <th>999998</th>\n",
       "      <td>120760</td>\n",
       "      <td>obseques:1;flash:2;policier:1;macron:1;chez:1;...</td>\n",
       "      <td>32</td>\n",
       "      <td>F</td>\n",
       "    </tr>\n",
       "  </tbody>\n",
       "</table>\n",
       "<p>883490 rows × 4 columns</p>\n",
       "</div>"
      ],
      "text/plain": [
       "             ID                                           keywords  age sex\n",
       "1        361410  forum:3;contrat:1;calcul:3;conges:1;mission:4;...   47   M\n",
       "2        211450  villa:1;location:2;aquitaine:2;maison:1;vacanc...   61   F\n",
       "3       1368807  trafic:1;tournante:1;drogue:1;france:1;plaque:...   45   M\n",
       "4       3502570  trafic:1;septembre:1;greve:1;sncf:1;sortir:1;p...   22   M\n",
       "5       2027488  darmanin:1;pour:1;ferme:1;jcms:1;conjoncture:1...   55   M\n",
       "...         ...                                                ...  ...  ..\n",
       "999993   878235                         prenoms:1;prenom:1;aidan:1   33   F\n",
       "999994   730507  programme:1;hemorroides:1;moix:1;symptomes:1;c...   43   M\n",
       "999996  1351077  comment:1;faq:1;choisir:1;velo:1;avec:1;joueur...   53   M\n",
       "999997    40194  salon:1;clash:1;maman:5;gout:1;doues:1;addicti...   54   F\n",
       "999998   120760  obseques:1;flash:2;policier:1;macron:1;chez:1;...   32   F\n",
       "\n",
       "[883490 rows x 4 columns]"
      ]
     },
     "execution_count": 4,
     "metadata": {},
     "output_type": "execute_result"
    }
   ],
   "source": [
    "df=pd.read_csv(\"/Users/orancho/Desktop/NLP/train_df.csv\")\n",
    "df.dropna(inplace=True)\n",
    "df"
   ]
  },
  {
   "cell_type": "markdown",
   "metadata": {},
   "source": [
    "Enhance interpretability of code by changing M to 1 and F to 0"
   ]
  },
  {
   "cell_type": "code",
   "execution_count": 7,
   "metadata": {},
   "outputs": [
    {
     "data": {
      "text/html": [
       "<div>\n",
       "<style scoped>\n",
       "    .dataframe tbody tr th:only-of-type {\n",
       "        vertical-align: middle;\n",
       "    }\n",
       "\n",
       "    .dataframe tbody tr th {\n",
       "        vertical-align: top;\n",
       "    }\n",
       "\n",
       "    .dataframe thead th {\n",
       "        text-align: right;\n",
       "    }\n",
       "</style>\n",
       "<table border=\"1\" class=\"dataframe\">\n",
       "  <thead>\n",
       "    <tr style=\"text-align: right;\">\n",
       "      <th></th>\n",
       "      <th>ID</th>\n",
       "      <th>keywords</th>\n",
       "      <th>age</th>\n",
       "      <th>sex</th>\n",
       "    </tr>\n",
       "  </thead>\n",
       "  <tbody>\n",
       "    <tr>\n",
       "      <th>1</th>\n",
       "      <td>361410</td>\n",
       "      <td>forum:3;contrat:1;calcul:3;conges:1;mission:4;...</td>\n",
       "      <td>47</td>\n",
       "      <td>1</td>\n",
       "    </tr>\n",
       "    <tr>\n",
       "      <th>2</th>\n",
       "      <td>211450</td>\n",
       "      <td>villa:1;location:2;aquitaine:2;maison:1;vacanc...</td>\n",
       "      <td>61</td>\n",
       "      <td>0</td>\n",
       "    </tr>\n",
       "    <tr>\n",
       "      <th>3</th>\n",
       "      <td>1368807</td>\n",
       "      <td>trafic:1;tournante:1;drogue:1;france:1;plaque:...</td>\n",
       "      <td>45</td>\n",
       "      <td>1</td>\n",
       "    </tr>\n",
       "    <tr>\n",
       "      <th>4</th>\n",
       "      <td>3502570</td>\n",
       "      <td>trafic:1;septembre:1;greve:1;sncf:1;sortir:1;p...</td>\n",
       "      <td>22</td>\n",
       "      <td>1</td>\n",
       "    </tr>\n",
       "    <tr>\n",
       "      <th>5</th>\n",
       "      <td>2027488</td>\n",
       "      <td>darmanin:1;pour:1;ferme:1;jcms:1;conjoncture:1...</td>\n",
       "      <td>55</td>\n",
       "      <td>1</td>\n",
       "    </tr>\n",
       "  </tbody>\n",
       "</table>\n",
       "</div>"
      ],
      "text/plain": [
       "        ID                                           keywords  age  sex\n",
       "1   361410  forum:3;contrat:1;calcul:3;conges:1;mission:4;...   47    1\n",
       "2   211450  villa:1;location:2;aquitaine:2;maison:1;vacanc...   61    0\n",
       "3  1368807  trafic:1;tournante:1;drogue:1;france:1;plaque:...   45    1\n",
       "4  3502570  trafic:1;septembre:1;greve:1;sncf:1;sortir:1;p...   22    1\n",
       "5  2027488  darmanin:1;pour:1;ferme:1;jcms:1;conjoncture:1...   55    1"
      ]
     },
     "execution_count": 7,
     "metadata": {},
     "output_type": "execute_result"
    }
   ],
   "source": [
    "df[\"sex\"]=df[\"sex\"].replace(\"M\",1)\n",
    "df[\"sex\"]=df[\"sex\"].replace(\"F\",0)\n",
    "df.head()"
   ]
  },
  {
   "cell_type": "markdown",
   "metadata": {},
   "source": [
    "# Data Cleaning - Train"
   ]
  },
  {
   "cell_type": "code",
   "execution_count": 8,
   "metadata": {},
   "outputs": [],
   "source": [
    "#random sample of 10% train set\n",
    "df = df.sample(frac=0.1, replace=True, random_state=1)"
   ]
  },
  {
   "cell_type": "code",
   "execution_count": 10,
   "metadata": {},
   "outputs": [
    {
     "name": "stderr",
     "output_type": "stream",
     "text": [
      "[nltk_data] Downloading package stopwords to\n",
      "[nltk_data]     /Users/orancho/nltk_data...\n",
      "[nltk_data]   Unzipping corpora/stopwords.zip.\n"
     ]
    },
    {
     "data": {
      "text/plain": [
       "True"
      ]
     },
     "execution_count": 10,
     "metadata": {},
     "output_type": "execute_result"
    }
   ],
   "source": [
    "nltk.download('stopwords')"
   ]
  },
  {
   "cell_type": "code",
   "execution_count": 11,
   "metadata": {},
   "outputs": [],
   "source": [
    "stop_words = stopwords.words()\n",
    "porter = PorterStemmer()\n",
    "def cleantext(counttext):\n",
    "    wordcounts=counttext.split(\";\")\n",
    "    text=\"\"\n",
    "    for words in wordcounts:\n",
    "        wordocr=words.split(\":\")\n",
    "        if len(wordocr)>1 and not wordocr[0] in stop_words :\n",
    "            wordocr[0]=porter.stem(wordocr[0])\n",
    "            text+=(wordocr[0]+\" \")*int(wordocr[1])\n",
    "    return text"
   ]
  },
  {
   "cell_type": "code",
   "execution_count": 12,
   "metadata": {},
   "outputs": [],
   "source": [
    "df=df[df[\"keywords\"].str.contains(\":\")]"
   ]
  },
  {
   "cell_type": "code",
   "execution_count": 13,
   "metadata": {},
   "outputs": [],
   "source": [
    "df[\"keywords\"]=df[\"keywords\"].map(lambda x: cleantext(x))"
   ]
  },
  {
   "cell_type": "code",
   "execution_count": 14,
   "metadata": {},
   "outputs": [],
   "source": [
    "df.dropna(inplace=True)\n",
    "df.to_csv(\"train_clean.csv\",index=False,sep=',')"
   ]
  },
  {
   "cell_type": "code",
   "execution_count": 15,
   "metadata": {},
   "outputs": [
    {
     "data": {
      "text/html": [
       "<div>\n",
       "<style scoped>\n",
       "    .dataframe tbody tr th:only-of-type {\n",
       "        vertical-align: middle;\n",
       "    }\n",
       "\n",
       "    .dataframe tbody tr th {\n",
       "        vertical-align: top;\n",
       "    }\n",
       "\n",
       "    .dataframe thead th {\n",
       "        text-align: right;\n",
       "    }\n",
       "</style>\n",
       "<table border=\"1\" class=\"dataframe\">\n",
       "  <thead>\n",
       "    <tr style=\"text-align: right;\">\n",
       "      <th></th>\n",
       "      <th>ID</th>\n",
       "      <th>keywords</th>\n",
       "      <th>age</th>\n",
       "      <th>sex</th>\n",
       "    </tr>\n",
       "  </thead>\n",
       "  <tbody>\n",
       "    <tr>\n",
       "      <th>144969</th>\n",
       "      <td>294784</td>\n",
       "      <td>presidentiel chalon baroin champagn elect sena...</td>\n",
       "      <td>60</td>\n",
       "      <td>0</td>\n",
       "    </tr>\n",
       "    <tr>\n",
       "      <th>556862</th>\n",
       "      <td>136272</td>\n",
       "      <td>binoch binoch binoch binoch binoch binoch bino...</td>\n",
       "      <td>57</td>\n",
       "      <td>1</td>\n",
       "    </tr>\n",
       "    <tr>\n",
       "      <th>533265</th>\n",
       "      <td>500083</td>\n",
       "      <td>gregori gaga marc christian luchini femm perna...</td>\n",
       "      <td>40</td>\n",
       "      <td>0</td>\n",
       "    </tr>\n",
       "    <tr>\n",
       "      <th>896123</th>\n",
       "      <td>202823</td>\n",
       "      <td>pourquoi_inscript recap_cv ma_recherch mon_par...</td>\n",
       "      <td>28</td>\n",
       "      <td>1</td>\n",
       "    </tr>\n",
       "    <tr>\n",
       "      <th>556301</th>\n",
       "      <td>130153</td>\n",
       "      <td>beton mettr pui percer chevil poutr affich forum</td>\n",
       "      <td>37</td>\n",
       "      <td>1</td>\n",
       "    </tr>\n",
       "    <tr>\n",
       "      <th>946753</th>\n",
       "      <td>82178</td>\n",
       "      <td>kaia kaia supermodel francais tout manifest ma...</td>\n",
       "      <td>42</td>\n",
       "      <td>1</td>\n",
       "    </tr>\n",
       "    <tr>\n",
       "      <th>420618</th>\n",
       "      <td>370992</td>\n",
       "      <td>emploi detail_offr</td>\n",
       "      <td>44</td>\n",
       "      <td>1</td>\n",
       "    </tr>\n",
       "    <tr>\n",
       "      <th>83032</th>\n",
       "      <td>322797</td>\n",
       "      <td>copain crusn arranc chateau ecol pierret pierr...</td>\n",
       "      <td>53</td>\n",
       "      <td>1</td>\n",
       "    </tr>\n",
       "    <tr>\n",
       "      <th>133144</th>\n",
       "      <td>137314</td>\n",
       "      <td>biscuit biscuit gouter gouter recett recett ga...</td>\n",
       "      <td>43</td>\n",
       "      <td>0</td>\n",
       "    </tr>\n",
       "    <tr>\n",
       "      <th>24242</th>\n",
       "      <td>3327176</td>\n",
       "      <td>2de2aecc0d85 contact like 3f5f bf5c news sugge...</td>\n",
       "      <td>36</td>\n",
       "      <td>0</td>\n",
       "    </tr>\n",
       "  </tbody>\n",
       "</table>\n",
       "</div>"
      ],
      "text/plain": [
       "             ID                                           keywords  age  sex\n",
       "144969   294784  presidentiel chalon baroin champagn elect sena...   60    0\n",
       "556862   136272  binoch binoch binoch binoch binoch binoch bino...   57    1\n",
       "533265   500083  gregori gaga marc christian luchini femm perna...   40    0\n",
       "896123   202823  pourquoi_inscript recap_cv ma_recherch mon_par...   28    1\n",
       "556301   130153  beton mettr pui percer chevil poutr affich forum    37    1\n",
       "946753    82178  kaia kaia supermodel francais tout manifest ma...   42    1\n",
       "420618   370992                                emploi detail_offr    44    1\n",
       "83032    322797  copain crusn arranc chateau ecol pierret pierr...   53    1\n",
       "133144   137314  biscuit biscuit gouter gouter recett recett ga...   43    0\n",
       "24242   3327176  2de2aecc0d85 contact like 3f5f bf5c news sugge...   36    0"
      ]
     },
     "execution_count": 15,
     "metadata": {},
     "output_type": "execute_result"
    }
   ],
   "source": [
    "df.head(10)"
   ]
  },
  {
   "cell_type": "markdown",
   "metadata": {},
   "source": [
    "# Data Cleaning - Test"
   ]
  },
  {
   "cell_type": "markdown",
   "metadata": {},
   "source": [
    "We are going to perform some cleaning on the test dataset "
   ]
  },
  {
   "cell_type": "code",
   "execution_count": null,
   "metadata": {},
   "outputs": [],
   "source": [
    "test=pd.read_csv(\"/Users/orancho/Desktop/NLP/test_df.csv\")\n",
    "test.dropna(subset=[\"keywords\"], inplace=True)\n",
    "test=test[test[\"keywords\"].str.contains(\":\")]"
   ]
  },
  {
   "cell_type": "code",
   "execution_count": null,
   "metadata": {},
   "outputs": [],
   "source": [
    "test[\"keywords\"]=test[\"keywords\"].map(lambda x: cleantext(x))"
   ]
  },
  {
   "cell_type": "code",
   "execution_count": null,
   "metadata": {},
   "outputs": [],
   "source": [
    "test.dropna(subset=[\"keywords\"], inplace=True)\n",
    "test.to_csv(\"test_clean.csv\",index=False,sep=',')"
   ]
  },
  {
   "cell_type": "markdown",
   "metadata": {},
   "source": [
    "# TFIDF Vectorizer"
   ]
  },
  {
   "cell_type": "markdown",
   "metadata": {},
   "source": [
    "We upload our two newly created clean datasets and perform a vectorizer"
   ]
  },
  {
   "cell_type": "code",
   "execution_count": 3,
   "metadata": {},
   "outputs": [],
   "source": [
    "df=pd.read_csv(\"/Users/orancho/Desktop/NLP/train_clean.csv\")\n",
    "test=pd.read_csv(\"/Users/orancho/Desktop/NLP/test_clean.csv\")"
   ]
  },
  {
   "cell_type": "markdown",
   "metadata": {},
   "source": [
    "Splitting the datasets into training and testing"
   ]
  },
  {
   "cell_type": "code",
   "execution_count": 4,
   "metadata": {},
   "outputs": [
    {
     "name": "stdout",
     "output_type": "stream",
     "text": [
      "(70679,)\n",
      "(17670,)\n",
      "(70679,)\n",
      "(17670,)\n",
      "(70679,)\n",
      "(17670,)\n"
     ]
    }
   ],
   "source": [
    "X_train,X_test,y_train,y_test,z_train,z_test = train_test_split(df[\"keywords\"],df[\"sex\"],df[\"age\"], test_size = 0.2, random_state = 42)\n",
    "print(X_train.shape)\n",
    "print(X_test.shape)\n",
    "print(y_train.shape)\n",
    "print(y_test.shape)\n",
    "print(z_train.shape)\n",
    "print(z_test.shape)"
   ]
  },
  {
   "cell_type": "code",
   "execution_count": 5,
   "metadata": {},
   "outputs": [
    {
     "data": {
      "text/plain": [
       "TfidfVectorizer()"
      ]
     },
     "execution_count": 5,
     "metadata": {},
     "output_type": "execute_result"
    }
   ],
   "source": [
    "vc_tf_idf = TfidfVectorizer()\n",
    "vc_tf_idf.fit(X_train.apply(lambda x: np.str_(x)))"
   ]
  },
  {
   "cell_type": "code",
   "execution_count": 6,
   "metadata": {},
   "outputs": [
    {
     "name": "stdout",
     "output_type": "stream",
     "text": [
      "Vocabulary size: 55707\n"
     ]
    }
   ],
   "source": [
    "print(\"Vocabulary size: {}\".format(len(vc_tf_idf.vocabulary_)))"
   ]
  },
  {
   "cell_type": "code",
   "execution_count": 7,
   "metadata": {},
   "outputs": [
    {
     "data": {
      "text/plain": [
       "(array([0, 0, 0, 1, 1, 1, 1, 1, 1, 1, 1, 1, 1, 1, 1, 1, 1, 1, 1, 1, 1, 1,\n",
       "        1, 1, 1, 1, 1, 1, 1, 1, 1, 2, 2, 2, 2, 2, 2, 2, 2, 2, 2, 2],\n",
       "       dtype=int32),\n",
       " array([45051, 44598, 25270, 54891, 52823, 51032, 48987, 48597, 47053,\n",
       "        45072, 44505, 44268, 43130, 35528, 34552, 34138, 33372, 26912,\n",
       "        25869, 23768, 23443, 21836, 20839, 19356, 18619, 18598, 18449,\n",
       "        15888, 11883, 11287,  8652, 52853, 45440, 45072, 41947, 36882,\n",
       "        24044, 22339, 18099, 16255, 13636,  8646], dtype=int32))"
      ]
     },
     "execution_count": 7,
     "metadata": {},
     "output_type": "execute_result"
    }
   ],
   "source": [
    "X_train_tf = vc_tf_idf.transform(X_train.apply(lambda x: np.str_(x)))\n",
    "X_train_tf[:3].nonzero()"
   ]
  },
  {
   "cell_type": "markdown",
   "metadata": {},
   "source": [
    "# Modeling for \"Sex\" Prediction"
   ]
  },
  {
   "cell_type": "markdown",
   "metadata": {},
   "source": [
    "We fit 3 models to evaluate their performance in predicting sex: Multinomial, Logistic regression and random forest"
   ]
  },
  {
   "cell_type": "code",
   "execution_count": 8,
   "metadata": {},
   "outputs": [
    {
     "data": {
      "text/plain": [
       "MultinomialNB()"
      ]
     },
     "execution_count": 8,
     "metadata": {},
     "output_type": "execute_result"
    }
   ],
   "source": [
    "from sklearn.naive_bayes import MultinomialNB\n",
    "mnb = MultinomialNB()\n",
    "mnb.fit(X_train_tf,y_train)"
   ]
  },
  {
   "cell_type": "code",
   "execution_count": 9,
   "metadata": {},
   "outputs": [
    {
     "data": {
      "text/plain": [
       "LogisticRegression(max_iter=10000)"
      ]
     },
     "execution_count": 9,
     "metadata": {},
     "output_type": "execute_result"
    }
   ],
   "source": [
    "from sklearn.linear_model import LogisticRegression\n",
    "logreg = LogisticRegression(max_iter=10000)\n",
    "logreg.fit(X_train_tf,y_train)"
   ]
  },
  {
   "cell_type": "code",
   "execution_count": 10,
   "metadata": {},
   "outputs": [
    {
     "data": {
      "text/plain": [
       "RandomForestClassifier(max_depth=8, n_estimators=2000)"
      ]
     },
     "execution_count": 10,
     "metadata": {},
     "output_type": "execute_result"
    }
   ],
   "source": [
    "from sklearn.ensemble import RandomForestClassifier\n",
    "rfc= RandomForestClassifier(n_estimators=2000,max_depth=8)\n",
    "rfc.fit(X_train_tf,y_train)"
   ]
  },
  {
   "cell_type": "code",
   "execution_count": 11,
   "metadata": {},
   "outputs": [],
   "source": [
    "X_test_tf = vc_tf_idf.transform(X_test.apply(lambda x: np.str_(x)))"
   ]
  },
  {
   "cell_type": "code",
   "execution_count": 12,
   "metadata": {},
   "outputs": [],
   "source": [
    "predictionsex = dict()\n",
    "predictionsex[\"mnb\"] = mnb.predict(X_test_tf)\n",
    "predictionsex[\"logreg\"] = logreg.predict(X_test_tf)\n",
    "predictionsex[\"rfc\"] = rfc.predict(X_test_tf)"
   ]
  },
  {
   "cell_type": "code",
   "execution_count": 14,
   "metadata": {},
   "outputs": [
    {
     "name": "stdout",
     "output_type": "stream",
     "text": [
      "              precision    recall  f1-score   support\n",
      "\n",
      "           0       0.62      0.43      0.51      8223\n",
      "           1       0.61      0.78      0.68      9447\n",
      "\n",
      "    accuracy                           0.61     17670\n",
      "   macro avg       0.62      0.60      0.59     17670\n",
      "weighted avg       0.62      0.61      0.60     17670\n",
      "\n"
     ]
    }
   ],
   "source": [
    "print(classification_report(y_test,predictionsex[\"mnb\"]))\n",
    "#Test result on MultinomialNB"
   ]
  },
  {
   "cell_type": "code",
   "execution_count": 15,
   "metadata": {},
   "outputs": [
    {
     "name": "stdout",
     "output_type": "stream",
     "text": [
      "              precision    recall  f1-score   support\n",
      "\n",
      "           0       0.60      0.49      0.54      8223\n",
      "           1       0.62      0.72      0.67      9447\n",
      "\n",
      "    accuracy                           0.61     17670\n",
      "   macro avg       0.61      0.61      0.60     17670\n",
      "weighted avg       0.61      0.61      0.61     17670\n",
      "\n"
     ]
    }
   ],
   "source": [
    "print(classification_report(y_test,predictionsex[\"logreg\"]))\n",
    "#Test result on LogisticRegression"
   ]
  },
  {
   "cell_type": "code",
   "execution_count": 16,
   "metadata": {},
   "outputs": [
    {
     "name": "stdout",
     "output_type": "stream",
     "text": [
      "              precision    recall  f1-score   support\n",
      "\n",
      "           0       0.84      0.07      0.12      8223\n",
      "           1       0.55      0.99      0.71      9447\n",
      "\n",
      "    accuracy                           0.56     17670\n",
      "   macro avg       0.70      0.53      0.41     17670\n",
      "weighted avg       0.69      0.56      0.43     17670\n",
      "\n"
     ]
    }
   ],
   "source": [
    "print(classification_report(y_test,predictionsex[\"rfc\"]))\n",
    "#Test result on Randomforest Classifier"
   ]
  },
  {
   "cell_type": "code",
   "execution_count": 17,
   "metadata": {},
   "outputs": [
    {
     "data": {
      "text/plain": [
       "0.6138087153367289"
      ]
     },
     "execution_count": 17,
     "metadata": {},
     "output_type": "execute_result"
    }
   ],
   "source": [
    "accuracy_score(y_test,predictionsex[\"logreg\"])\n",
    "#Logistic regression has the best accuracy"
   ]
  },
  {
   "cell_type": "code",
   "execution_count": 18,
   "metadata": {},
   "outputs": [
    {
     "data": {
      "image/png": "[encoded data removed]",
      "text/plain": [
       "<Figure size 432x288 with 1 Axes>"
      ]
     },
     "metadata": {
      "needs_background": "light"
     },
     "output_type": "display_data"
    }
   ],
   "source": [
    "ax = plt.gca()\n",
    "test_rf = plot_roc_curve(logreg, X_test_tf, y_test,ax=ax, alpha=0.8, name=\"test\")\n",
    "train_rf = plot_roc_curve(logreg,X_train_tf, y_train,ax=ax, alpha=0.8, name=\"train\")\n",
    "plt.show()\n",
    "#AUC curve for Logistic Regression"
   ]
  },
  {
   "cell_type": "code",
   "execution_count": 19,
   "metadata": {},
   "outputs": [
    {
     "data": {
      "image/png": "[encoded data removed]",
      "text/plain": [
       "<Figure size 432x288 with 1 Axes>"
      ]
     },
     "metadata": {
      "needs_background": "light"
     },
     "output_type": "display_data"
    }
   ],
   "source": [
    "ax = plt.gca()\n",
    "test_rf = plot_roc_curve(mnb, X_test_tf, y_test,ax=ax, alpha=0.8, name=\"test\")\n",
    "train_rf = plot_roc_curve(mnb,X_train_tf, y_train,ax=ax, alpha=0.8, name=\"train\")\n",
    "plt.show()\n",
    "#AUC curve for MultinomialNB"
   ]
  },
  {
   "cell_type": "code",
   "execution_count": 20,
   "metadata": {},
   "outputs": [
    {
     "data": {
      "image/png": "[encoded data removed]",
      "text/plain": [
       "<Figure size 432x288 with 1 Axes>"
      ]
     },
     "metadata": {
      "needs_background": "light"
     },
     "output_type": "display_data"
    }
   ],
   "source": [
    "ax = plt.gca()\n",
    "test_rf = plot_roc_curve(rfc, X_test_tf, y_test,ax=ax, alpha=0.8, name=\"test\")\n",
    "train_rf = plot_roc_curve(rfc,X_train_tf, y_train,ax=ax, alpha=0.8, name=\"train\")\n",
    "plt.show()\n",
    "#AUC curve for RandomForest Classifier"
   ]
  },
  {
   "cell_type": "markdown",
   "metadata": {},
   "source": [
    "We conclude that the performance of the logistic regression is optimal; this was to be expected given the classificating nature of the tasks. We use that one as the model for gender predictioon"
   ]
  },
  {
   "cell_type": "code",
   "execution_count": 21,
   "metadata": {},
   "outputs": [],
   "source": [
    "X_test_final = vc_tf_idf.transform(test[\"keywords\"].apply(lambda x: np.str_(x)))"
   ]
  },
  {
   "cell_type": "code",
   "execution_count": 22,
   "metadata": {},
   "outputs": [],
   "source": [
    "result=pd.DataFrame()\n",
    "result[\"ID\"]=test[\"ID\"]\n",
    "result[\"sex_pred\"]=logreg.predict(X_test_final)"
   ]
  },
  {
   "cell_type": "code",
   "execution_count": 23,
   "metadata": {},
   "outputs": [],
   "source": [
    "result[\"sex_pred\"]=result[\"sex_pred\"].replace(1, \"M\")\n",
    "result[\"sex_pred\"]=result[\"sex_pred\"].replace(0, \"F\")"
   ]
  },
  {
   "cell_type": "code",
   "execution_count": 24,
   "metadata": {},
   "outputs": [],
   "source": [
    "result.to_csv(\"test_result.csv\",index=False,sep=',')"
   ]
  },
  {
   "cell_type": "markdown",
   "metadata": {},
   "source": [
    "# Modeling for \"Age\" Prediction"
   ]
  },
  {
   "cell_type": "code",
   "execution_count": 25,
   "metadata": {},
   "outputs": [
    {
     "data": {
      "text/plain": [
       "SGDRegressor(alpha=1e-05, max_iter=10000, random_state=42)"
      ]
     },
     "execution_count": 25,
     "metadata": {},
     "output_type": "execute_result"
    }
   ],
   "source": [
    "from sklearn.linear_model import SGDRegressor\n",
    "sgd = SGDRegressor(alpha=0.00001,max_iter=10000,random_state=42)\n",
    "sgd.fit(X_train_tf,z_train)"
   ]
  },
  {
   "cell_type": "code",
   "execution_count": 26,
   "metadata": {},
   "outputs": [
    {
     "name": "stdout",
     "output_type": "stream",
     "text": [
      "Mean square error:156.6847\n",
      "Mean absolute error:10.0034\n",
      "R square:  7.59%\n"
     ]
    }
   ],
   "source": [
    "from sklearn.metrics import mean_squared_error \n",
    "from sklearn.metrics import mean_absolute_error\n",
    "from sklearn.metrics import r2_score\n",
    "predictionage = dict()\n",
    "predictionage[\"sgd\"] = sgd.predict(X_test_tf)\n",
    "print(\"Mean square error:%.4f\"%(mean_squared_error(z_test,predictionage[\"sgd\"])))\n",
    "print(\"Mean absolute error:%.4f\"%(mean_absolute_error(z_test,predictionage[\"sgd\"])))\n",
    "print(\"R square: \", '{:.2%}'.format(r2_score(z_test,predictionage[\"sgd\"])))"
   ]
  },
  {
   "cell_type": "code",
   "execution_count": 27,
   "metadata": {},
   "outputs": [
    {
     "name": "stdout",
     "output_type": "stream",
     "text": [
      "              precision    recall  f1-score   support\n",
      "\n",
      "        10.0       0.00      0.00      0.00        45\n",
      "        20.0       0.00      0.00      0.00       895\n",
      "        30.0       0.36      0.02      0.03      2474\n",
      "        40.0       0.35      0.55      0.43      5173\n",
      "        50.0       0.27      0.53      0.36      4506\n",
      "        60.0       0.30      0.07      0.11      3044\n",
      "        70.0       0.31      0.00      0.01      1352\n",
      "        80.0       0.00      0.00      0.00       167\n",
      "        90.0       0.00      0.00      0.00        12\n",
      "       100.0       0.00      0.00      0.00         2\n",
      "\n",
      "    accuracy                           0.31     17670\n",
      "   macro avg       0.16      0.12      0.09     17670\n",
      "weighted avg       0.30      0.31      0.24     17670\n",
      "\n"
     ]
    },
    {
     "name": "stderr",
     "output_type": "stream",
     "text": [
      "/opt/anaconda3/lib/python3.8/site-packages/sklearn/metrics/_classification.py:1221: UndefinedMetricWarning: Precision and F-score are ill-defined and being set to 0.0 in labels with no predicted samples. Use `zero_division` parameter to control this behavior.\n",
      "  _warn_prf(average, modifier, msg_start, len(result))\n"
     ]
    }
   ],
   "source": [
    "print(classification_report(np.floor((z_test+5)/10)*10,np.floor((predictionage[\"sgd\"]+5)/10)*10))\n",
    "# 10 stands for age group between 5-15, 20 stands for age group between 15-25 and so on"
   ]
  },
  {
   "cell_type": "code",
   "execution_count": 28,
   "metadata": {},
   "outputs": [
    {
     "name": "stdout",
     "output_type": "stream",
     "text": [
      "1 stands for the precision rate of the whole test data\n",
      "0    0.691454\n",
      "1    0.308546\n",
      "Name: age, dtype: float64\n"
     ]
    }
   ],
   "source": [
    "predictionage[\"dif\"]=predictionage[\"sgd\"]-z_test\n",
    "predictionage[\"dif\"]=predictionage[\"dif\"].map(lambda x: 0 if abs(x)>5 else 1)\n",
    "print(\"1 stands for the precision rate of the whole test data\")\n",
    "print(predictionage[\"dif\"].value_counts(1))"
   ]
  },
  {
   "cell_type": "code",
   "execution_count": 29,
   "metadata": {},
   "outputs": [],
   "source": [
    "result=pd.read_csv(\"test_result.csv\")\n",
    "result[\"age_pred\"]=sgd.predict(X_test_final)\n",
    "result.to_csv(\"test_result.csv\",index=False,sep=',')"
   ]
  },
  {
   "cell_type": "markdown",
   "metadata": {},
   "source": [
    "Results of the task are saved into \"test_results.csv\""
   ]
  },
  {
   "cell_type": "code",
   "execution_count": null,
   "metadata": {},
   "outputs": [],
   "source": []
  }
 ],
 "metadata": {
  "kernelspec": {
   "display_name": "Python 3",
   "language": "python",
   "name": "python3"
  },
  "language_info": {
   "codemirror_mode": {
    "name": "ipython",
    "version": 3
   },
   "file_extension": ".py",
   "mimetype": "text/x-python",
   "name": "python",
   "nbconvert_exporter": "python",
   "pygments_lexer": "ipython3",
   "version": "3.8.3"
  }
 },
 "nbformat": 4,
 "nbformat_minor": 4
}
